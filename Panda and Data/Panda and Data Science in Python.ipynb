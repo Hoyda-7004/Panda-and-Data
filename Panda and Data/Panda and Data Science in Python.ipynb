{
 "cells": [
  {
   "cell_type": "code",
   "execution_count": null,
   "id": "e778cb10",
   "metadata": {},
   "outputs": [],
   "source": [
    "import pandas as pd"
   ]
  },
  {
   "cell_type": "code",
   "execution_count": null,
   "id": "e9e4dd15",
   "metadata": {},
   "outputs": [],
   "source": [
    "pd."
   ]
  },
  {
   "cell_type": "markdown",
   "id": "c297c22c",
   "metadata": {},
   "source": [
    "1. Create"
   ]
  },
  {
   "cell_type": "markdown",
   "id": "64ef1fd6",
   "metadata": {},
   "source": [
    "1.1 Create from a Dictionary"
   ]
  },
  {
   "cell_type": "code",
   "execution_count": null,
   "id": "afdd7bb2",
   "metadata": {},
   "outputs": [],
   "source": [
    "df = pd.read_csv('telco_churn.csv')"
   ]
  },
  {
   "cell_type": "markdown",
   "id": "1aac02b5",
   "metadata": {},
   "source": [
    "1.2 Create from a Dictionary"
   ]
  },
  {
   "cell_type": "code",
   "execution_count": null,
   "id": "ae0093cc",
   "metadata": {},
   "outputs": [],
   "source": [
    "tempdict = {'coll':[1,2,3], 'col2':[4,5,6], 'col3':[7,8,9]}"
   ]
  },
  {
   "cell_type": "code",
   "execution_count": null,
   "id": "d29b06a4",
   "metadata": {},
   "outputs": [],
   "source": [
    "dictdf = pd.DataFrame.from_dict(temdict)"
   ]
  },
  {
   "cell_type": "markdown",
   "id": "fcc82e0e",
   "metadata": {},
   "source": [
    "2. Read"
   ]
  },
  {
   "cell_type": "markdown",
   "id": "81635b22",
   "metadata": {},
   "source": [
    "2.1 Show Top 5 and Bottom 5 Rows"
   ]
  },
  {
   "cell_type": "code",
   "execution_count": null,
   "id": "906b00b9",
   "metadata": {},
   "outputs": [],
   "source": [
    "df.head(10)"
   ]
  },
  {
   "cell_type": "code",
   "execution_count": null,
   "id": "8f568502",
   "metadata": {},
   "outputs": [],
   "source": [
    "dictdf.head()"
   ]
  },
  {
   "cell_type": "code",
   "execution_count": null,
   "id": "fa9493f3",
   "metadata": {},
   "outputs": [],
   "source": [
    "df.tail(15)"
   ]
  },
  {
   "cell_type": "markdown",
   "id": "722450c7",
   "metadata": {},
   "source": [
    "2.2 Show Columns and Data Type"
   ]
  },
  {
   "cell_type": "code",
   "execution_count": null,
   "id": "7a66575b",
   "metadata": {},
   "outputs": [],
   "source": [
    "df.columns"
   ]
  },
  {
   "cell_type": "code",
   "execution_count": null,
   "id": "88808bc9",
   "metadata": {},
   "outputs": [],
   "source": [
    "df.dtypes"
   ]
  },
  {
   "cell_type": "markdown",
   "id": "5d8c70a2",
   "metadata": {},
   "source": [
    "2.3 Summary Statistics"
   ]
  },
  {
   "cell_type": "code",
   "execution_count": null,
   "id": "3035e0d4",
   "metadata": {},
   "outputs": [],
   "source": [
    "df.describe()"
   ]
  },
  {
   "cell_type": "code",
   "execution_count": null,
   "id": "81654e4b",
   "metadata": {},
   "outputs": [],
   "source": [
    "df.describe(include= 'object')"
   ]
  },
  {
   "cell_type": "markdown",
   "id": "893510d2",
   "metadata": {},
   "source": [
    "2.4 Filtering Columns"
   ]
  },
  {
   "cell_type": "code",
   "execution_count": null,
   "id": "b6d630d5",
   "metadata": {},
   "outputs": [],
   "source": [
    "df.state"
   ]
  },
  {
   "cell_type": "code",
   "execution_count": null,
   "id": "c13440aa",
   "metadata": {},
   "outputs": [],
   "source": [
    "df['International plan']"
   ]
  },
  {
   "cell_type": "code",
   "execution_count": null,
   "id": "4d8ae346",
   "metadata": {},
   "outputs": [],
   "source": [
    "df[['State', 'International plan']]"
   ]
  },
  {
   "cell_type": "code",
   "execution_count": null,
   "id": "04efc4ae",
   "metadata": {},
   "outputs": [],
   "source": [
    "df.churn.unique()"
   ]
  },
  {
   "cell_type": "markdown",
   "id": "22ab09e2",
   "metadata": {},
   "source": [
    "2.5 Filtering on Rows"
   ]
  },
  {
   "cell_type": "code",
   "execution_count": null,
   "id": "40173831",
   "metadata": {},
   "outputs": [],
   "source": [
    "df.head()"
   ]
  },
  {
   "cell_type": "code",
   "execution_count": null,
   "id": "5fb9cd67",
   "metadata": {},
   "outputs": [],
   "source": [
    "df[df['International plan']=='No']"
   ]
  },
  {
   "cell_type": "code",
   "execution_count": null,
   "id": "db028f3f",
   "metadata": {},
   "outputs": [],
   "source": [
    "df[(df['International plan']=='No') & (df['churn']==True)]"
   ]
  },
  {
   "cell_type": "markdown",
   "id": "73df382b",
   "metadata": {},
   "source": [
    "2.6 Indexing with iloc"
   ]
  },
  {
   "cell_type": "code",
   "execution_count": null,
   "id": "0070e157",
   "metadata": {},
   "outputs": [],
   "source": [
    "df.iloc[14]"
   ]
  },
  {
   "cell_type": "code",
   "execution_count": null,
   "id": "075390ea",
   "metadata": {},
   "outputs": [],
   "source": [
    "df.iloc[14,-1]"
   ]
  },
  {
   "cell_type": "code",
   "execution_count": null,
   "id": "1e70c29b",
   "metadata": {},
   "outputs": [],
   "source": [
    "df.iloc[22:33]"
   ]
  },
  {
   "cell_type": "markdown",
   "id": "70ebb2ab",
   "metadata": {},
   "source": [
    "2.7 Indexing with loc"
   ]
  },
  {
   "cell_type": "code",
   "execution_count": null,
   "id": "89589c1a",
   "metadata": {},
   "outputs": [],
   "source": [
    "state = df.copy()\n",
    "state.set_index('State', inplace=True)"
   ]
  },
  {
   "cell_type": "code",
   "execution_count": null,
   "id": "7d11e7c8",
   "metadata": {},
   "outputs": [],
   "source": [
    "state.head()"
   ]
  },
  {
   "cell_type": "code",
   "execution_count": null,
   "id": "90bd082c",
   "metadata": {},
   "outputs": [],
   "source": [
    "state.loc['OH']"
   ]
  },
  {
   "cell_type": "markdown",
   "id": "b7f09505",
   "metadata": {},
   "source": [
    "3. Update\""
   ]
  },
  {
   "cell_type": "markdown",
   "id": "86e1be07",
   "metadata": {},
   "source": [
    "3.1 Dropping Rows"
   ]
  },
  {
   "cell_type": "code",
   "execution_count": null,
   "id": "d2807564",
   "metadata": {},
   "outputs": [],
   "source": [
    "df.isnull().sum()"
   ]
  },
  {
   "cell_type": "code",
   "execution_count": null,
   "id": "1ff45db0",
   "metadata": {},
   "outputs": [],
   "source": [
    "df.dropna(inplace=True)"
   ]
  },
  {
   "cell_type": "code",
   "execution_count": null,
   "id": "b6d63b7a",
   "metadata": {},
   "outputs": [],
   "source": [
    "df.isnull().sum()"
   ]
  },
  {
   "cell_type": "markdown",
   "id": "ba0f4360",
   "metadata": {},
   "source": [
    "3.2 Dropping Columns"
   ]
  },
  {
   "cell_type": "code",
   "execution_count": null,
   "id": "ec897c68",
   "metadata": {},
   "outputs": [],
   "source": [
    "df.drop('Area code', axis=1)"
   ]
  },
  {
   "cell_type": "markdown",
   "id": "0d7a406d",
   "metadata": {},
   "source": [
    "3.3 Creating Calculated Columns"
   ]
  },
  {
   "cell_type": "code",
   "execution_count": null,
   "id": "25882015",
   "metadata": {},
   "outputs": [],
   "source": [
    "df['New Column'] = df['Total night minutes'] + df['Total intl minutes']"
   ]
  },
  {
   "cell_type": "code",
   "execution_count": null,
   "id": "fcb2a20c",
   "metadata": {},
   "outputs": [],
   "source": [
    "df.head()"
   ]
  },
  {
   "cell_type": "markdown",
   "id": "346f0a87",
   "metadata": {},
   "source": [
    "3.4 Updating an Entire Column"
   ]
  },
  {
   "cell_type": "code",
   "execution_count": null,
   "id": "0f9a36f4",
   "metadata": {},
   "outputs": [],
   "source": [
    "df['New column'] = 100"
   ]
  },
  {
   "cell_type": "code",
   "execution_count": null,
   "id": "f9ee8105",
   "metadata": {},
   "outputs": [],
   "source": [
    "df.head()"
   ]
  },
  {
   "cell_type": "markdown",
   "id": "9b1ffa95",
   "metadata": {},
   "source": [
    "3.5 Updating a Single Value"
   ]
  },
  {
   "cell_type": "code",
   "execution_count": null,
   "id": "05b2283d",
   "metadata": {},
   "outputs": [],
   "source": [
    "df.iloc[0,-1] = 10"
   ]
  },
  {
   "cell_type": "code",
   "execution_count": null,
   "id": "c4a9ca79",
   "metadata": {},
   "outputs": [],
   "source": [
    "df.head()"
   ]
  },
  {
   "cell_type": "markdown",
   "id": "a0948618",
   "metadata": {},
   "source": [
    "3.6 Condition based Updating using Apply"
   ]
  },
  {
   "cell_type": "code",
   "execution_count": null,
   "id": "112e2d81",
   "metadata": {},
   "outputs": [],
   "source": [
    "df['Churn Binary'] = df['churn'].apply(lambda x: 1 if x==True else 0)"
   ]
  },
  {
   "cell_type": "code",
   "execution_count": null,
   "id": "d3382603",
   "metadata": {},
   "outputs": [],
   "source": [
    "df[df['churn']==True].head()"
   ]
  },
  {
   "cell_type": "markdown",
   "id": "7d8748c9",
   "metadata": {},
   "source": [
    "4. Delete/Output"
   ]
  },
  {
   "cell_type": "markdown",
   "id": "51eeb3f4",
   "metadata": {},
   "source": [
    "4.1 Output to csv"
   ]
  },
  {
   "cell_type": "code",
   "execution_count": null,
   "id": "611342ef",
   "metadata": {},
   "outputs": [],
   "source": [
    "df.to_csv('output.csv')"
   ]
  },
  {
   "cell_type": "markdown",
   "id": "966f947f",
   "metadata": {},
   "source": [
    "4.2 Output to JSON"
   ]
  },
  {
   "cell_type": "code",
   "execution_count": null,
   "id": "537ce257",
   "metadata": {},
   "outputs": [],
   "source": [
    "df.to_json()"
   ]
  },
  {
   "cell_type": "markdown",
   "id": "58c6850d",
   "metadata": {},
   "source": [
    "4.3 Output to HTML"
   ]
  },
  {
   "cell_type": "code",
   "execution_count": null,
   "id": "065804c3",
   "metadata": {},
   "outputs": [],
   "source": [
    "df.to_html()"
   ]
  },
  {
   "cell_type": "markdown",
   "id": "9fc597e5",
   "metadata": {},
   "source": [
    "4.4 Delete a DataFrame"
   ]
  },
  {
   "cell_type": "code",
   "execution_count": null,
   "id": "2e9a8164",
   "metadata": {},
   "outputs": [],
   "source": [
    "del df"
   ]
  },
  {
   "cell_type": "code",
   "execution_count": null,
   "id": "8d36d092",
   "metadata": {},
   "outputs": [],
   "source": []
  }
 ],
 "metadata": {
  "kernelspec": {
   "display_name": "Python 3 (ipykernel)",
   "language": "python",
   "name": "python3"
  },
  "language_info": {
   "codemirror_mode": {
    "name": "ipython",
    "version": 3
   },
   "file_extension": ".py",
   "mimetype": "text/x-python",
   "name": "python",
   "nbconvert_exporter": "python",
   "pygments_lexer": "ipython3",
   "version": "3.11.5"
  }
 },
 "nbformat": 4,
 "nbformat_minor": 5
}
